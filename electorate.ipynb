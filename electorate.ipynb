{
 "cells": [
  {
   "cell_type": "code",
   "execution_count": 15,
   "id": "7c51a0ca",
   "metadata": {},
   "outputs": [],
   "source": [
    "class Electorate:\n",
    "    \n",
    "    def __init__(self,demographic_groups,proportions):\n",
    "        self._demographic_groups = demographic_groups\n",
    "        self._proportions = proportions\n",
    "        \n",
    "    def create_electorate(n_voters,demographic_groups,proportions):\n",
    "        \n",
    "        if sum(proportions) != 1:\n",
    "            raise ValueError('Proportions do not sum to 1.')\n",
    "        if len(demographic_groups) != len(proportions):\n",
    "            raise ValueError('Number of demographic groups must equal number of proportions')\n",
    "        \n",
    "        proportions = [int(round(x*n_voters,0)) for x in proportions]\n",
    "        electorate = dict(zip(demographic_groups,proportions))\n",
    "        return(electorate)"
   ]
  }
 ],
 "metadata": {
  "kernelspec": {
   "display_name": "Python 3",
   "language": "python",
   "name": "python3"
  },
  "language_info": {
   "codemirror_mode": {
    "name": "ipython",
    "version": 3
   },
   "file_extension": ".py",
   "mimetype": "text/x-python",
   "name": "python",
   "nbconvert_exporter": "python",
   "pygments_lexer": "ipython3",
   "version": "3.8.3"
  }
 },
 "nbformat": 4,
 "nbformat_minor": 5
}
