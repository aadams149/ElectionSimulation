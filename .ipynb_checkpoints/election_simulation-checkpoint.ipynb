{
 "cells": [
  {
   "cell_type": "code",
   "execution_count": null,
   "id": "95439592",
   "metadata": {},
   "outputs": [],
   "source": [
    "class Election:\n",
    "    \n",
    "    def __init__(self,candidates,parties,voters,method,polls):\n",
    "        self._candidates = candidates\n",
    "        self._parties = parties\n",
    "        self._voters = voters\n",
    "        self._method = method\n",
    "        self._polls = polls\n",
    "        \n",
    "    def candidate_names(self):\n",
    "        return self._candidates\n",
    "    \n",
    "    def party_names(self):\n",
    "        return self._parties\n",
    "    \n",
    "    def voter_count(self):\n",
    "        return self._voters\n",
    "    \n",
    "    def election_type(self):\n",
    "        return self._method\n",
    "    \n",
    "    def Ballots(self,candidates,polls,voters,method):\n",
    "        candidates.append('N/A')\n",
    "        if method == 'FPTP':\n",
    "            num_choices = 1\n",
    "        if method == 'RCV':\n",
    "            num_choices = len(candidates)\n",
    "        if method == 'Approval':\n",
    "            num_choices = lambda: random.randint(1,len(candidates))\n",
    "            \n",
    "        ballots = [np.random.choice(candidates,\n",
    "                                    size = num_choices,\n",
    "                                    replace = False,\n",
    "                                    p=polls) for _ in range(voters)]\n",
    "        return(ballots)\n",
    "        \n",
    "\n",
    "    def fix_NAs(ballots):\n",
    "        for ballot in ballots:\n",
    "            for i,cand in enumerate(ballot):\n",
    "                if ballot[i-1] == 'N/A':\n",
    "                    ballot[i] = 'N/A'\n",
    "        return(ballots)\n",
    "    \n",
    "    \n",
    "    def FPTPVoting(self,candidates,polls,voters):\n",
    "        votes = Ballots(method = 'FPTP')\n",
    "        votes = pd.DataFrame(votes)\n",
    "        votes = pd.DataFrame(ballots.value_counts().rename_axis('candidates').reset_index(name = 'raw_votes'))\n",
    "        votes['percentage'] = votes['votes']/sum(votes['votes'])\n",
    "        self._winner = votes.loc[votes['votes'].idxmax()]['candidates']\n",
    "        \n",
    "        if self._winner == 'N/A':\n",
    "            self._winner = votes.nlargest(2,'votes')['candidates'][1]\n",
    "            \n",
    "    \n",
    "    def RankedChoiceVoting(self,candidates,polls,voters,full_eval = True,return_ballots = False):\n",
    "        votes = Ballots(method = 'RCV')\n",
    "        votes = fix_NAs(votes)\n",
    "        votes = pd.DataFrame(votes)\n",
    "        column_names = []\n",
    "        for j in range(1,len(votes.columns)):\n",
    "            name = \"round_\"+str(j)\n",
    "            column_names.append(name)\n",
    "        votes.columns = column_names\n",
    "        totals = pd.DataFrame(votes.value_counts(['round_1'])).rename_axis('candidates').reset_index(name = 'round_1_votes')\n",
    "        totals['percentage'] = totals['round_1_votes']/sum(totals['round_1_votes'])\n",
    "        vote_round = 1\n",
    "        \n",
    "        for m in range(1,len(votes.columns)):\n",
    "            if full_eval = False:\n",
    "                if any(totals['percentage'] >= 0.5):\n",
    "                    self._winner = totals.loc[totals['percentage'].idxmax()]['candidates']\n",
    "                    break\n",
    "            str_prev = 'round'+str(vote_round)\n",
    "            elim_cand = totals.loc[totals['percentage'].idxmin()]['candidates']\n",
    "            next_round = votes[votes[str_prev] == elim_cand]\n",
    "            vote_round = vote_round+1\n",
    "            str_current = 'round'+str(vote_round)\n",
    "            next_round = pd.DataFrame(\n",
    "                next_round.value_counts(\n",
    "                    [str_current])).rename_axis('candidates').reset_index(name = str_current+'_votes')\n",
    "            totals = totals.merge(next_round,\n",
    "                                 how = 'left',\n",
    "                                 on = 'candidates')\n",
    "            totals[str_current+'votes'] = totals[str_prev+'votes'] + totals[str_current+'votes']\n",
    "            totals['percentage'] = totals[str_current+'votes']/sum(totals[str_current+'votes'])\n",
    "            if vote_round = len(votes.columns):\n",
    "                break\n",
    "        \n",
    "        if return_ballots = True:\n",
    "            output = []\n",
    "            output.append(votes)\n",
    "            output.append(totals)\n",
    "            return(output)\n",
    "        else:\n",
    "            return(totals)\n"
   ]
  },
  {
   "cell_type": "code",
   "execution_count": 25,
   "id": "54412dcc",
   "metadata": {},
   "outputs": [],
   "source": [
    "polls = [0.4,0.3,0.1,0.1,0.1]"
   ]
  },
  {
   "cell_type": "code",
   "execution_count": 52,
   "id": "a2419e66",
   "metadata": {},
   "outputs": [],
   "source": [
    "candidates = ['Mary Peltola','Sarah Palin','Nicholas Begich','Tara Sweeney']\n",
    "candidates.append('N/A')"
   ]
  },
  {
   "cell_type": "code",
   "execution_count": 53,
   "id": "fd3e4043",
   "metadata": {},
   "outputs": [
    {
     "data": {
      "text/plain": [
       "['Mary Peltola', 'Sarah Palin', 'Nicholas Begich', 'Tara Sweeney', 'N/A']"
      ]
     },
     "execution_count": 53,
     "metadata": {},
     "output_type": "execute_result"
    }
   ],
   "source": [
    "voters = 10\n",
    "candidates"
   ]
  },
  {
   "cell_type": "code",
   "execution_count": 180,
   "id": "90e1766a",
   "metadata": {},
   "outputs": [],
   "source": [
    "ballots = [np.random.choice(candidates,\n",
    "                                    size = len(candidates),\n",
    "                                    replace = False,\n",
    "                                    p=polls) for _ in range(voters)]"
   ]
  },
  {
   "cell_type": "code",
   "execution_count": 155,
   "id": "a5618b58",
   "metadata": {},
   "outputs": [],
   "source": [
    "import pandas as pd"
   ]
  },
  {
   "cell_type": "code",
   "execution_count": 181,
   "id": "636237d1",
   "metadata": {},
   "outputs": [],
   "source": [
    "ballots = pd.DataFrame(ballots)"
   ]
  },
  {
   "cell_type": "code",
   "execution_count": 183,
   "id": "67ffbbb1",
   "metadata": {},
   "outputs": [
    {
     "data": {
      "text/plain": [
       "5"
      ]
     },
     "execution_count": 183,
     "metadata": {},
     "output_type": "execute_result"
    }
   ],
   "source": [
    "len(ballots.columns)"
   ]
  },
  {
   "cell_type": "code",
   "execution_count": 179,
   "id": "159bb623",
   "metadata": {},
   "outputs": [
    {
     "data": {
      "text/plain": [
       "'Mary Peltola'"
      ]
     },
     "execution_count": 179,
     "metadata": {},
     "output_type": "execute_result"
    }
   ],
   "source": []
  },
  {
   "cell_type": "code",
   "execution_count": 146,
   "id": "617764a7",
   "metadata": {},
   "outputs": [],
   "source": [
    "ballots = fix_NAs(ballots)"
   ]
  },
  {
   "cell_type": "code",
   "execution_count": 119,
   "id": "066af54f",
   "metadata": {},
   "outputs": [],
   "source": [
    "ballot = ballots[2]"
   ]
  },
  {
   "cell_type": "code",
   "execution_count": 151,
   "id": "61e75731",
   "metadata": {},
   "outputs": [],
   "source": [
    "ballots = [np.random.choice(candidates,\n",
    "                            size=random.randint(1,len(candidates)),\n",
    "                            replace=False,\n",
    "                            p=polls) for _ in range(voters)]"
   ]
  },
  {
   "cell_type": "code",
   "execution_count": 152,
   "id": "72331eef",
   "metadata": {},
   "outputs": [
    {
     "data": {
      "text/plain": [
       "[array(['Nicholas Begich', 'Mary Peltola', 'Sarah Palin', 'N/A'],\n",
       "       dtype='<U15'),\n",
       " array(['N/A', 'Mary Peltola', 'Sarah Palin'], dtype='<U15'),\n",
       " array(['N/A'], dtype='<U15'),\n",
       " array(['Tara Sweeney'], dtype='<U15'),\n",
       " array(['N/A', 'Mary Peltola'], dtype='<U15'),\n",
       " array(['Mary Peltola', 'Tara Sweeney'], dtype='<U15'),\n",
       " array(['Mary Peltola', 'Nicholas Begich', 'Sarah Palin', 'Tara Sweeney'],\n",
       "       dtype='<U15'),\n",
       " array(['Mary Peltola', 'Nicholas Begich', 'Sarah Palin', 'Tara Sweeney',\n",
       "        'N/A'], dtype='<U15'),\n",
       " array(['Mary Peltola'], dtype='<U15'),\n",
       " array(['Tara Sweeney', 'Mary Peltola', 'N/A'], dtype='<U15')]"
      ]
     },
     "execution_count": 152,
     "metadata": {},
     "output_type": "execute_result"
    }
   ],
   "source": [
    "ballots"
   ]
  },
  {
   "cell_type": "code",
   "execution_count": 95,
   "id": "3fb2fe48",
   "metadata": {},
   "outputs": [],
   "source": [
    "ballots = fix_NAs(ballots)"
   ]
  },
  {
   "cell_type": "code",
   "execution_count": 147,
   "id": "569392ec",
   "metadata": {},
   "outputs": [
    {
     "data": {
      "text/plain": [
       "[array(['N/A', 'N/A', 'N/A', 'N/A', 'N/A'], dtype='<U15'),\n",
       " array(['Mary Peltola', 'Nicholas Begich', 'Sarah Palin', 'N/A', 'N/A'],\n",
       "       dtype='<U15'),\n",
       " array(['Mary Peltola', 'Nicholas Begich', 'Sarah Palin', 'N/A', 'N/A'],\n",
       "       dtype='<U15'),\n",
       " array(['Mary Peltola', 'N/A', 'N/A', 'N/A', 'N/A'], dtype='<U15'),\n",
       " array(['Mary Peltola', 'Sarah Palin', 'Nicholas Begich', 'N/A', 'N/A'],\n",
       "       dtype='<U15'),\n",
       " array(['N/A', 'N/A', 'N/A', 'N/A', 'N/A'], dtype='<U15'),\n",
       " array(['Sarah Palin', 'Mary Peltola', 'Tara Sweeney', 'N/A', 'N/A'],\n",
       "       dtype='<U15'),\n",
       " array(['N/A', 'N/A', 'N/A', 'N/A', 'N/A'], dtype='<U15'),\n",
       " array(['Mary Peltola', 'Sarah Palin', 'N/A', 'N/A', 'N/A'], dtype='<U15'),\n",
       " array(['N/A', 'N/A', 'N/A', 'N/A', 'N/A'], dtype='<U15')]"
      ]
     },
     "execution_count": 147,
     "metadata": {},
     "output_type": "execute_result"
    }
   ],
   "source": [
    "ballots"
   ]
  }
 ],
 "metadata": {
  "kernelspec": {
   "display_name": "Python 3",
   "language": "python",
   "name": "python3"
  },
  "language_info": {
   "codemirror_mode": {
    "name": "ipython",
    "version": 3
   },
   "file_extension": ".py",
   "mimetype": "text/x-python",
   "name": "python",
   "nbconvert_exporter": "python",
   "pygments_lexer": "ipython3",
   "version": "3.8.3"
  }
 },
 "nbformat": 4,
 "nbformat_minor": 5
}
