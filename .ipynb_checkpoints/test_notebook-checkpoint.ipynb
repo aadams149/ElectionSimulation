{
 "cells": [
  {
   "cell_type": "code",
   "execution_count": 35,
   "id": "70807dcd",
   "metadata": {},
   "outputs": [],
   "source": [
    "from electorate import Electorate"
   ]
  },
  {
   "cell_type": "code",
   "execution_count": 36,
   "id": "8848ada8",
   "metadata": {},
   "outputs": [],
   "source": [
    "electorate = Electorate.create_electorate(n_voters = 150000,\n",
    "                                          demographic_groups = ['White Men',\n",
    "                                                                'White Women',\n",
    "                                                                 'Black Men',\n",
    "                                                     'Black Women',\n",
    "                                                    'Hispanic Men',\n",
    "                                                    'Hispanic Women',\n",
    "                                                    'Asian Men',\n",
    "                                                    'Asian Women'],\n",
    "                              proportions = [0.29,\n",
    "                                            0.29,\n",
    "                                            0.07,\n",
    "                                            0.07,\n",
    "                                            0.095,\n",
    "                                            0.095,\n",
    "                                            0.045,\n",
    "                                            0.045])"
   ]
  },
  {
   "cell_type": "code",
   "execution_count": 43,
   "id": "157e3141",
   "metadata": {},
   "outputs": [],
   "source": [
    "from election import Election"
   ]
  },
  {
   "cell_type": "code",
   "execution_count": 45,
   "id": "99df689b",
   "metadata": {},
   "outputs": [
    {
     "data": {
      "text/plain": [
       "<function election.Election.Ballots(self, candidates, polls, electorate, method)>"
      ]
     },
     "execution_count": 45,
     "metadata": {},
     "output_type": "execute_result"
    }
   ],
   "source": [
    "Election.Ballots"
   ]
  },
  {
   "cell_type": "code",
   "execution_count": 46,
   "id": "77dec531",
   "metadata": {},
   "outputs": [
    {
     "ename": "NameError",
     "evalue": "name 'self' is not defined",
     "output_type": "error",
     "traceback": [
      "\u001b[1;31m---------------------------------------------------------------------------\u001b[0m",
      "\u001b[1;31mNameError\u001b[0m                                 Traceback (most recent call last)",
      "\u001b[1;32m<ipython-input-46-0d6f8ae0ab6d>\u001b[0m in \u001b[0;36m<module>\u001b[1;34m\u001b[0m\n\u001b[0;32m      1\u001b[0m ballots = Election.Ballots(\n\u001b[1;32m----> 2\u001b[1;33m     \u001b[0mself\u001b[0m \u001b[1;33m=\u001b[0m \u001b[0mself\u001b[0m\u001b[1;33m,\u001b[0m\u001b[1;33m\u001b[0m\u001b[1;33m\u001b[0m\u001b[0m\n\u001b[0m\u001b[0;32m      3\u001b[0m     \u001b[0mcandidates\u001b[0m \u001b[1;33m=\u001b[0m \u001b[1;33m[\u001b[0m\u001b[1;34m'Mary Peltola'\u001b[0m\u001b[1;33m,\u001b[0m\u001b[1;34m'Sarah Palin'\u001b[0m\u001b[1;33m,\u001b[0m\u001b[1;34m'Nick Begich'\u001b[0m\u001b[1;33m,\u001b[0m\u001b[1;34m'Tara Sweeney'\u001b[0m\u001b[1;33m]\u001b[0m\u001b[1;33m,\u001b[0m\u001b[1;33m\u001b[0m\u001b[1;33m\u001b[0m\u001b[0m\n\u001b[0;32m      4\u001b[0m                           \u001b[0melectorate\u001b[0m \u001b[1;33m=\u001b[0m \u001b[0melectorate\u001b[0m\u001b[1;33m,\u001b[0m\u001b[1;33m\u001b[0m\u001b[1;33m\u001b[0m\u001b[0m\n\u001b[0;32m      5\u001b[0m                           \u001b[0mpolls\u001b[0m \u001b[1;33m=\u001b[0m \u001b[1;33m[\u001b[0m\u001b[1;36m0.5\u001b[0m\u001b[1;33m,\u001b[0m\u001b[1;36m0.3\u001b[0m\u001b[1;33m,\u001b[0m\u001b[1;36m0.15\u001b[0m\u001b[1;33m,\u001b[0m\u001b[1;36m0.05\u001b[0m\u001b[1;33m]\u001b[0m\u001b[1;33m,\u001b[0m\u001b[1;33m\u001b[0m\u001b[1;33m\u001b[0m\u001b[0m\n",
      "\u001b[1;31mNameError\u001b[0m: name 'self' is not defined"
     ]
    }
   ],
   "source": [
    "ballots = Election.Ballots(candidates = ['Mary Peltola','Sarah Palin','Nick Begich','Tara Sweeney'],\n",
    "                          electorate = electorate,\n",
    "                          polls = [0.5,0.3,0.15,0.05],\n",
    "                          method = 'FPTP')"
   ]
  }
 ],
 "metadata": {
  "kernelspec": {
   "display_name": "Python 3",
   "language": "python",
   "name": "python3"
  },
  "language_info": {
   "codemirror_mode": {
    "name": "ipython",
    "version": 3
   },
   "file_extension": ".py",
   "mimetype": "text/x-python",
   "name": "python",
   "nbconvert_exporter": "python",
   "pygments_lexer": "ipython3",
   "version": "3.8.3"
  }
 },
 "nbformat": 4,
 "nbformat_minor": 5
}
